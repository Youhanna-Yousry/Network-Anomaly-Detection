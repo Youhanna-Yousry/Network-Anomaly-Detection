{
  "cells": [
    {
      "cell_type": "markdown",
      "metadata": {
        "id": "view-in-github",
        "colab_type": "text"
      },
      "source": [
        "<a href=\"https://colab.research.google.com/github/Youhanna-Yousry/Network-Anomaly-Detection/blob/master/NetworkAnomalyDetection.ipynb\" target=\"_parent\"><img src=\"https://colab.research.google.com/assets/colab-badge.svg\" alt=\"Open In Colab\"/></a>"
      ]
    },
    {
      "cell_type": "markdown",
      "metadata": {
        "id": "hWB-NXsy7q1r"
      },
      "source": [
        "# Network Anomaly Detection\n"
      ]
    },
    {
      "cell_type": "markdown",
      "metadata": {
        "id": "oWyHuOHa7zBD"
      },
      "source": [
        "## Problem statement\n",
        "The exponential growth of network traffic has led to an increase in network\n",
        "anomalies, such as cyber attacks, network failures, and hardware malfunctions.\n",
        "Network anomaly detection is a critical task for maintaining the security and\n",
        "stability of computer networks. The objective of this assignment is to help\n",
        "students understand how K-Means and Normalized Cut algorithms can be used\n",
        "for network anomaly detection.. [assignment link](https://github.com/Youhanna-Yousry/Network-Anomaly-Detection/blob/master/assets/CSE352_Assignment_2.pdf)"
      ]
    },
    {
      "cell_type": "markdown",
      "metadata": {
        "id": "bC9Jj-3rMl59"
      },
      "source": [
        "## Imports"
      ]
    },
    {
      "cell_type": "code",
      "execution_count": null,
      "metadata": {
        "id": "iWvWegIkMoJc"
      },
      "outputs": [],
      "source": [
        "import numpy as np\n",
        "\n",
        "import pandas as pd\n",
        "\n",
        "import matplotlib.pyplot as plt\n",
        "\n",
        "from sklearn.metrics.pairwise import rbf_kernel\n",
        "from sklearn.model_selection import train_test_split\n",
        "\n",
        "from scipy.linalg import eigh\n",
        "from scipy.spatial.distance import cdist\n",
        "\n",
        "import math"
      ]
    },
    {
      "cell_type": "code",
      "execution_count": null,
      "metadata": {
        "id": "hNLSaT5xx9Np"
      },
      "outputs": [],
      "source": [
        "np.random.seed(42)"
      ]
    },
    {
      "cell_type": "markdown",
      "metadata": {
        "id": "Ark9cUW38Lf-"
      },
      "source": [
        "## 1.Downloading the Datset and Understanding the Format\n",
        "This dataset contains a standard set of data to be audited, which includes a wide variety of intrusions simulated in a military network environment.\n",
        "\n",
        "\n",
        "*   kddcup.data.gz &rarr; Full dataset\n",
        "*   kddcup.data_10_percent.gz &rarr; 10 percent subset\n",
        "*   corrected.gz &rarr; Test data with corrected labels\n",
        "\n",
        "The dataset contains 42 columns (41 for features and the last one contains the labels) for the features description check [this link](https://www.researchgate.net/figure/The-41-features-provided-by-the-KDD-Cup-99-datasets_tbl1_263274883)\n",
        "\n",
        "\n",
        "[KDD Cup 1999 dataset link](https://kdd.ics.uci.edu/databases/kddcup99/kddcup99.html)\n",
        "\n",
        "[Files description source](https://www.kdd.org/kdd-cup/view/kdd-cup-1999/Data)\n"
      ]
    },
    {
      "cell_type": "code",
      "execution_count": null,
      "metadata": {
        "id": "-Wu6XP1SomeR",
        "colab": {
          "base_uri": "https://localhost:8080/"
        },
        "outputId": "efc3b941-bf8f-4758-e985-7730ea2dcb2b"
      },
      "outputs": [
        {
          "output_type": "stream",
          "name": "stderr",
          "text": [
            "Downloading...\n",
            "From: https://drive.google.com/uc?id=1SXEg2dIC3jAT-_8-GCJDC2wDCfGnSwoU\n",
            "To: /content/kddcup.data.gz\n",
            "\r  0%|          | 0.00/18.1M [00:00<?, ?B/s]\r100%|██████████| 18.1M/18.1M [00:00<00:00, 189MB/s]\n",
            "Downloading...\n",
            "From: https://drive.google.com/uc?id=1wcr6o0ZV-OYvyaqMG1shlHsekv50lvI6\n",
            "To: /content/kddcup.data_10_percent.gz\n",
            "\r  0%|          | 0.00/2.14M [00:00<?, ?B/s]\r100%|██████████| 2.14M/2.14M [00:00<00:00, 52.6MB/s]\n",
            "Downloading...\n",
            "From: https://drive.google.com/uc?id=1SBIoHv2cyf5-jHCQK48r4F1upGCbxN9p\n",
            "To: /content/corrected.gz\n",
            "\r  0%|          | 0.00/1.41M [00:00<?, ?B/s]\r100%|██████████| 1.41M/1.41M [00:00<00:00, 62.4MB/s]\n",
            "mkdir: cannot create directory ‘/datasets’: File exists\n"
          ]
        }
      ],
      "source": [
        "%%bash\n",
        "# downloading datasets\n",
        "gdown https://drive.google.com/uc?id=1SXEg2dIC3jAT-_8-GCJDC2wDCfGnSwoU\n",
        "gdown  https://drive.google.com/uc?id=1wcr6o0ZV-OYvyaqMG1shlHsekv50lvI6\n",
        "gdown https://drive.google.com/uc?id=1SBIoHv2cyf5-jHCQK48r4F1upGCbxN9p\n",
        "\n",
        "# creating a new directory for datasets\n",
        "mkdir /datasets\n",
        "\n",
        "# unzipping datasets\n",
        "gunzip -c kddcup.data.gz > /datasets/kddcup.data.corrected\n",
        "gunzip -c kddcup.data_10_percent.gz > /datasets/kddcup.data_10_percent_corrected\n",
        "gunzip -c corrected.gz > /datasets/corrected"
      ]
    },
    {
      "cell_type": "markdown",
      "source": [
        "The csv files are read and saved in dataframes then every categorical column (1, 2, 41) are converted to numerical using a dictionary and a counter; if the categorical value doesn't exist in the dictionray, its numerical value becomes the current value of the counter and the counter is incremented by one. Otherwise, the categorical value is replaced by the corresponding numerical value in the dictionary.\n",
        "For the sack of consistency, a dictionary is created that contains all the 3 dictionaries of the categrical columns in order to make the given numerical value the same for all the 3 dataframes."
      ],
      "metadata": {
        "id": "XZF5qfDFJ1ge"
      }
    },
    {
      "cell_type": "code",
      "execution_count": null,
      "metadata": {
        "id": "8BU5OEnOBdeV"
      },
      "outputs": [],
      "source": [
        "# reading dataset files and saving it in a dataframe\n",
        "df = pd.read_csv('/datasets/kddcup.data.corrected', header=None)\n",
        "reduced_df = pd.read_csv('/datasets/kddcup.data_10_percent_corrected', header=None)\n",
        "testing_df = pd.read_csv('/datasets/corrected', header=None)"
      ]
    },
    {
      "cell_type": "code",
      "execution_count": null,
      "metadata": {
        "id": "yDFWSSC7eOOZ"
      },
      "outputs": [],
      "source": [
        "def convert_categorical_columns(df, dictionaries={}):\n",
        "  # getting the indexes of categorical columns\n",
        "  categorical_columns = []\n",
        "  for column in df.columns:\n",
        "    if df[column].dtype == object:\n",
        "      categorical_columns.append(column)\n",
        "\n",
        "  # converting each one of these column to numberical data\n",
        "  for column in categorical_columns:\n",
        "    dictionary = {}\n",
        "    if column in dictionaries:\n",
        "      dictionary = dictionaries[column]\n",
        "\n",
        "    new_column = []\n",
        "    counter = len(dictionary)\n",
        "\n",
        "    for data_point in df[column]:\n",
        "      if data_point not in dictionary:\n",
        "        dictionary[data_point] = counter\n",
        "        counter += 1\n",
        "      new_column.append(dictionary[data_point])\n",
        "\n",
        "    dictionaries[column] = dictionary\n",
        "    df[column] = new_column\n",
        "\n",
        "  return dictionaries"
      ]
    },
    {
      "cell_type": "code",
      "execution_count": null,
      "metadata": {
        "colab": {
          "base_uri": "https://localhost:8080/"
        },
        "id": "vGi22VUcikkI",
        "outputId": "f6bec474-4b03-4110-b849-25661a5a2241"
      },
      "outputs": [
        {
          "output_type": "stream",
          "name": "stdout",
          "text": [
            "{}\n",
            "{1: {'tcp': 0, 'udp': 1, 'icmp': 2}, 2: {'http': 0, 'smtp': 1, 'domain_u': 2, 'auth': 3, 'finger': 4, 'telnet': 5, 'eco_i': 6, 'ftp': 7, 'ntp_u': 8, 'ecr_i': 9, 'other': 10, 'urp_i': 11, 'private': 12, 'pop_3': 13, 'ftp_data': 14, 'netstat': 15, 'daytime': 16, 'ssh': 17, 'echo': 18, 'time': 19, 'name': 20, 'whois': 21, 'domain': 22, 'mtp': 23, 'gopher': 24, 'remote_job': 25, 'rje': 26, 'ctf': 27, 'supdup': 28, 'link': 29, 'systat': 30, 'discard': 31, 'X11': 32, 'shell': 33, 'login': 34, 'imap4': 35, 'nntp': 36, 'uucp': 37, 'pm_dump': 38, 'IRC': 39, 'Z39_50': 40, 'netbios_dgm': 41, 'ldap': 42, 'sunrpc': 43, 'courier': 44, 'exec': 45, 'bgp': 46, 'csnet_ns': 47, 'http_443': 48, 'klogin': 49, 'printer': 50, 'netbios_ssn': 51, 'pop_2': 52, 'nnsp': 53, 'efs': 54, 'hostnames': 55, 'uucp_path': 56, 'sql_net': 57, 'vmnet': 58, 'iso_tsap': 59, 'netbios_ns': 60, 'kshell': 61, 'urh_i': 62, 'http_2784': 63, 'harvest': 64, 'aol': 65, 'tftp_u': 66, 'http_8001': 67, 'tim_i': 68, 'red_i': 69}, 3: {'SF': 0, 'S2': 1, 'S1': 2, 'S3': 3, 'OTH': 4, 'REJ': 5, 'RSTO': 6, 'S0': 7, 'RSTR': 8, 'RSTOS0': 9, 'SH': 10}, 41: {'normal.': 0, 'buffer_overflow.': 1, 'loadmodule.': 2, 'perl.': 3, 'neptune.': 4, 'smurf.': 5, 'guess_passwd.': 6, 'pod.': 7, 'teardrop.': 8, 'portsweep.': 9, 'ipsweep.': 10, 'land.': 11, 'ftp_write.': 12, 'back.': 13, 'imap.': 14, 'satan.': 15, 'phf.': 16, 'nmap.': 17, 'multihop.': 18, 'warezmaster.': 19, 'warezclient.': 20, 'spy.': 21, 'rootkit.': 22}}\n",
            "{1: {'tcp': 0, 'udp': 1, 'icmp': 2}, 2: {'http': 0, 'smtp': 1, 'domain_u': 2, 'auth': 3, 'finger': 4, 'telnet': 5, 'eco_i': 6, 'ftp': 7, 'ntp_u': 8, 'ecr_i': 9, 'other': 10, 'urp_i': 11, 'private': 12, 'pop_3': 13, 'ftp_data': 14, 'netstat': 15, 'daytime': 16, 'ssh': 17, 'echo': 18, 'time': 19, 'name': 20, 'whois': 21, 'domain': 22, 'mtp': 23, 'gopher': 24, 'remote_job': 25, 'rje': 26, 'ctf': 27, 'supdup': 28, 'link': 29, 'systat': 30, 'discard': 31, 'X11': 32, 'shell': 33, 'login': 34, 'imap4': 35, 'nntp': 36, 'uucp': 37, 'pm_dump': 38, 'IRC': 39, 'Z39_50': 40, 'netbios_dgm': 41, 'ldap': 42, 'sunrpc': 43, 'courier': 44, 'exec': 45, 'bgp': 46, 'csnet_ns': 47, 'http_443': 48, 'klogin': 49, 'printer': 50, 'netbios_ssn': 51, 'pop_2': 52, 'nnsp': 53, 'efs': 54, 'hostnames': 55, 'uucp_path': 56, 'sql_net': 57, 'vmnet': 58, 'iso_tsap': 59, 'netbios_ns': 60, 'kshell': 61, 'urh_i': 62, 'http_2784': 63, 'harvest': 64, 'aol': 65, 'tftp_u': 66, 'http_8001': 67, 'tim_i': 68, 'red_i': 69}, 3: {'SF': 0, 'S2': 1, 'S1': 2, 'S3': 3, 'OTH': 4, 'REJ': 5, 'RSTO': 6, 'S0': 7, 'RSTR': 8, 'RSTOS0': 9, 'SH': 10}, 41: {'normal.': 0, 'buffer_overflow.': 1, 'loadmodule.': 2, 'perl.': 3, 'neptune.': 4, 'smurf.': 5, 'guess_passwd.': 6, 'pod.': 7, 'teardrop.': 8, 'portsweep.': 9, 'ipsweep.': 10, 'land.': 11, 'ftp_write.': 12, 'back.': 13, 'imap.': 14, 'satan.': 15, 'phf.': 16, 'nmap.': 17, 'multihop.': 18, 'warezmaster.': 19, 'warezclient.': 20, 'spy.': 21, 'rootkit.': 22}}\n"
          ]
        }
      ],
      "source": [
        "# converting categorical columns to numerical\n",
        "dictionaries = convert_categorical_columns(df)\n",
        "_ = convert_categorical_columns(reduced_df, dictionaries)\n",
        "_ = convert_categorical_columns(testing_df, dictionaries)"
      ]
    },
    {
      "cell_type": "code",
      "execution_count": null,
      "metadata": {
        "id": "_luQLD4xi_ZC"
      },
      "outputs": [],
      "source": [
        "# converting dataframes to numpy arrays\n",
        "D = df.to_numpy()\n",
        "reduced_D = reduced_df.to_numpy()\n",
        "testing__D = testing_df.to_numpy()\n",
        "\n",
        "# splitting labels from data\n",
        "data = D[:, :-1]\n",
        "labels = D[:, -1]\n",
        "\n",
        "reduced_data = reduced_D[:, :-1]\n",
        "reduced_labels = reduced_D[:, -1]\n",
        "\n",
        "testing_data = testing__D[:, :-1]\n",
        "testing_labels = testing__D[:, -1]\n",
        "\n",
        "# freeing up some memory\n",
        "del df, reduced_df, testing_df, D, reduced_D, testing__D, dictionaries"
      ]
    },
    {
      "cell_type": "markdown",
      "metadata": {
        "id": "WcfiXFACLdlC"
      },
      "source": [
        "## 2.Clustering Using K-Means"
      ]
    },
    {
      "cell_type": "markdown",
      "metadata": {
        "id": "QnfWyV3U10gq"
      },
      "source": [
        "It's objective is to find clustering that mininmize the Sum of Squared Error in each cluster\n",
        "\n",
        "**complexity**\n",
        "\n",
        "O(knd):\n",
        "1. k: Number of clusters\n",
        "2. n: size of dataset\n",
        "3. d: dimensionality of data\n",
        "\n",
        "\n",
        "**Advantages**\n",
        "\n",
        "\n",
        "Fast algoithm\n",
        "\n",
        "**Disadvantages**\n",
        "\n",
        "1. May fail in non-spherical shape data\n",
        "2. Can't be applied with non-numerical data\n",
        "3. Choice of K is crucial\n",
        "4. May stuck at local minimum and require random restarts"
      ]
    },
    {
      "cell_type": "code",
      "execution_count": null,
      "metadata": {
        "id": "80ltxr3Qc2cV"
      },
      "outputs": [],
      "source": [
        "class KMeans:\n",
        "  def __init__(self):\n",
        "    self.__centroids = None\n",
        "\n",
        "  def __initialize_centroids(self, training_data, k):\n",
        "    n = training_data.shape[0]\n",
        "    centroids = []\n",
        "    centroids_set = set()\n",
        "\n",
        "    while len(centroids) < k:\n",
        "      idx = np.random.randint(0, n)\n",
        "      if tuple(training_data[idx]) in centroids_set:\n",
        "        continue\n",
        "      centroids.append(training_data[idx])\n",
        "      centroids_set.add(tuple(training_data[idx]))\n",
        "\n",
        "    return np.array(centroids)\n",
        "\n",
        "  def __compute_clusters_indices(self, training_data, k, centroids):\n",
        "    distances = cdist(training_data, centroids, 'sqeuclidean')\n",
        "    return np.argmin(distances, axis=1)\n",
        "\n",
        "  def __assign_clusters(self, training_data, k, centroids):\n",
        "    clusters = [[] for _ in range(k)]\n",
        "    min_dist_indices = self.__compute_clusters_indices(training_data, k,\n",
        "                                                       centroids)\n",
        "\n",
        "    for i, min_dist_index in enumerate(min_dist_indices):\n",
        "        clusters[min_dist_index].append(training_data[i])\n",
        "\n",
        "    return clusters\n",
        "\n",
        "  def __update_centroids(self, training_data, clusters):\n",
        "    new_centroids = []\n",
        "    n = training_data.shape[0]\n",
        "\n",
        "    for cluster in clusters:\n",
        "      if len(cluster) == 0:\n",
        "        new_centroids.append(training_data[np.random.randint(0, n)])\n",
        "        continue\n",
        "      new_centroids.append(np.mean(np.array(cluster), axis=0))\n",
        "\n",
        "    return np.array(new_centroids)\n",
        "\n",
        "  def __kMeans(self, training_data, k, threshold, n_iterations):\n",
        "      t = 0\n",
        "      centroids = self.__initialize_centroids(training_data, k)\n",
        "      clusters = []\n",
        "\n",
        "      while True:\n",
        "        t += 1\n",
        "\n",
        "        # Cluster Assignment Step\n",
        "        clusters = self.__assign_clusters(training_data, k, centroids)\n",
        "\n",
        "        # Centroid Update Step\n",
        "        new_centroids = self.__update_centroids(training_data, clusters)\n",
        "\n",
        "        if np.sum(np.sum((centroids - new_centroids)**2, axis=1)) <= threshold \\\n",
        "          or t == n_iterations:\n",
        "          break\n",
        "\n",
        "        centroids = new_centroids\n",
        "\n",
        "      return clusters, centroids\n",
        "\n",
        "  def __print_clusters_info(self, k, clusters):\n",
        "    print(f'for k={k}:')\n",
        "    cluster_sizes = sorted([len(cluster) for cluster in clusters], reverse=True)\n",
        "    print(f'Clusters sizes: {cluster_sizes}')\n",
        "\n",
        "  def __compute_sse(self, clusters, centroids):\n",
        "    sse = 0.0\n",
        "\n",
        "    for idx, cluster in enumerate(clusters):\n",
        "      for data_point in cluster:\n",
        "        sse += np.sum((data_point - centroids[idx])**2)\n",
        "\n",
        "    return sse\n",
        "\n",
        "  def fit(self, training_data, k, threshold=0.000001, n_iterations=100, restarts=3):\n",
        "    r = 0\n",
        "    min_sse = float('inf')\n",
        "    best_clusters = []\n",
        "\n",
        "    while r < restarts:\n",
        "      r += 1\n",
        "\n",
        "      clusters, centroids = self.__kMeans(training_data, k, threshold, n_iterations)\n",
        "      sse = self.__compute_sse(clusters, centroids)\n",
        "\n",
        "      if sse < min_sse:\n",
        "        self.__centroids = centroids\n",
        "        min_sse = sse\n",
        "        best_clusters = clusters\n",
        "\n",
        "    self.__print_clusters_info(k, best_clusters)\n",
        "\n",
        "  def predict(self, testing_data):\n",
        "    if self.__centroids is None:\n",
        "      raise ValueError(\"KMeans object needs to be fitted first!\")\n",
        "\n",
        "    return self.__compute_clusters_indices(testing_data,\n",
        "                                           self.__centroids.shape[0],\n",
        "                                           self.__centroids)\n",
        "  def get_centroids(self):\n",
        "    return self.__centroids"
      ]
    },
    {
      "cell_type": "code",
      "execution_count": null,
      "metadata": {
        "id": "q8iURtgjy5g-"
      },
      "outputs": [],
      "source": [
        "k_values = [7, 15, 23, 31, 45]\n",
        "kmeans_dict = dict()"
      ]
    },
    {
      "cell_type": "code",
      "execution_count": null,
      "metadata": {
        "colab": {
          "base_uri": "https://localhost:8080/"
        },
        "id": "l-c__3msiBAK",
        "outputId": "af653017-48b8-420c-f939-0c57166154c8"
      },
      "outputs": [
        {
          "name": "stdout",
          "output_type": "stream",
          "text": [
            "for k=7:\n",
            "Clusters sizes: [491482, 2341, 82, 76, 21, 18, 1]\n",
            "for k=15:\n",
            "Clusters sizes: [290814, 184541, 10173, 3369, 2340, 1883, 574, 124, 82, 55, 24, 18, 17, 6, 1]\n",
            "for k=23:\n",
            "Clusters sizes: [236973, 161996, 52793, 21273, 7199, 3622, 3365, 2310, 1425, 1246, 739, 573, 235, 82, 62, 35, 27, 20, 18, 12, 10, 5, 1]\n",
            "for k=31:\n",
            "Clusters sizes: [235418, 143064, 52799, 24227, 13323, 5713, 4089, 3087, 2522, 2271, 1329, 1278, 1143, 955, 748, 738, 489, 209, 200, 106, 82, 74, 41, 40, 18, 17, 13, 12, 10, 5, 1]\n",
            "for k=45:\n",
            "Clusters sizes: [227839, 57131, 33986, 30318, 30031, 29604, 12653, 10453, 7519, 7064, 6626, 5806, 5118, 4468, 3868, 3264, 2612, 2543, 2271, 1990, 1299, 1179, 1018, 903, 852, 620, 577, 557, 487, 436, 266, 200, 105, 82, 74, 45, 41, 40, 18, 17, 13, 12, 10, 5, 1]\n"
          ]
        }
      ],
      "source": [
        "for k in k_values:\n",
        "  kmeans_dict[k] = KMeans()\n",
        "  kmeans_dict[k].fit(reduced_data, k, n_iterations=300)"
      ]
    },
    {
      "cell_type": "markdown",
      "metadata": {
        "id": "TCDCqIMXdwIY"
      },
      "source": [
        "## 3.Clustering Using Normalized Cut"
      ]
    },
    {
      "cell_type": "markdown",
      "metadata": {
        "id": "eLMuDeDnw9rN"
      },
      "source": [
        "0.15% of the dataset are used for training"
      ]
    },
    {
      "cell_type": "code",
      "execution_count": null,
      "metadata": {
        "id": "e5QmWSq_yHF1"
      },
      "outputs": [],
      "source": [
        "training_data, _, training_labels, _ = train_test_split(data, labels, train_size=0.0015, stratify=labels)"
      ]
    },
    {
      "cell_type": "markdown",
      "metadata": {
        "id": "sWApgYxu5XVl"
      },
      "source": [
        "The code performs eigen-decomposition on the Laplacian matrix to obtain The first smallest k eigenvectors that is after normalized. The normalized eigenvectors are then used as input to a KMeans clustering algorithm to obtain the final cluster labels.\n"
      ]
    },
    {
      "cell_type": "code",
      "execution_count": null,
      "metadata": {
        "id": "MNFwmZ472Fkm"
      },
      "outputs": [],
      "source": [
        "def normalized_cut(D, k, g):\n",
        "  # calculating the similarity matrix A\n",
        "  laplacian_matrix = rbf_kernel(D, gamma=g)\n",
        "\n",
        "  # calculating the Degree matrix Δ\n",
        "  deg_matrix = np.diag(np.sum(laplacian_matrix, axis=1))\n",
        "\n",
        "  # calculating the Laplacian matrix L = Δ - A\n",
        "  laplacian_matrix = deg_matrix - laplacian_matrix\n",
        "\n",
        "  # calculating the Inverse Degree matrix Δ ^ -1\n",
        "  #inv_deg_matrix = np.diag(1.0 / rows_sum)\n",
        "\n",
        "  # eigendecomposition\n",
        "  eigen_values, eigen_vectors = eigh(laplacian_matrix, b=deg_matrix)\n",
        "\n",
        "  # sorting eigen values and eigen vectors\n",
        "  idx = np.argsort(eigen_values)\n",
        "  eigen_values = eigen_values[idx]\n",
        "  eigen_vectors = eigen_vectors[:, idx]\n",
        "\n",
        "  # taking the first k eigen vectors\n",
        "  U = eigen_vectors[:, :k]\n",
        "\n",
        "  # computing norm of each row\n",
        "  norms = np.linalg.norm(U, axis=1, keepdims=True) + np.finfo(float).eps\n",
        "\n",
        "  # normalization\n",
        "  Y = U / norms\n",
        "\n",
        "  kmeans = KMeans()\n",
        "\n",
        "  kmeans.fit(Y, k)\n",
        "\n",
        "  return kmeans.predict(Y), Y, kmeans.get_centroids()"
      ]
    },
    {
      "cell_type": "code",
      "execution_count": null,
      "metadata": {
        "colab": {
          "base_uri": "https://localhost:8080/"
        },
        "id": "B0nXT9qUAqaq",
        "outputId": "a60a9350-1ee9-4030-fc73-54b020568c73"
      },
      "outputs": [
        {
          "name": "stdout",
          "output_type": "stream",
          "text": [
            "for k=11:\n",
            "Clusters sizes: [3902, 1628, 970, 208, 149, 125, 104, 97, 57, 54, 53]\n"
          ]
        }
      ],
      "source": [
        "normalized_cut(training_data, 11, 0.1)"
      ]
    },
    {
      "cell_type": "markdown",
      "metadata": {
        "id": "sybY1IAFKEVN"
      },
      "source": [
        " # New Clustering Algorithm (Your implementation)\n",
        "\n"
      ]
    },
    {
      "cell_type": "markdown",
      "metadata": {
        "id": "B1nZpp3n3aDQ"
      },
      "source": [
        "# DBSCAN"
      ]
    },
    {
      "cell_type": "markdown",
      "metadata": {
        "id": "R_YgTCfpjRnJ"
      },
      "source": [
        "DBSCAN is a clustering algorithm that has the ability to find arbitrary shape clusters and can be used for anomaly detection.\n",
        "\n",
        "It's main idea is that it add a new point to a cluster if it is close to many points of that cluster.\n",
        "\n",
        "**Advantages**\n",
        "\n",
        "1. Doesn't require specifying the number of clusters in advance\n",
        "2. Work with arbitrary shape data\n",
        "3. Can detect anomalies\n",
        "\n",
        "**Cons**\n",
        "\n",
        "1. Require hyperparameters tunining\n",
        "\n",
        "\n",
        "**Parameters**\n",
        "\n",
        "1. Data: data points to be clustered\n",
        "2. eps: The distance used two define a neighbourhood between two points\n",
        "3. min_samples: The minimum number of neighbours to define a core point\n",
        "\n",
        "**Definitions**\n",
        "\n",
        "1. Core point: it is a point that has at least min_samples in its neighbourhood\n",
        "2. Border point: don't have the min number of samples but reachable from core point\n",
        "3. Outlier: Neither Core point nor Border point\n",
        "\n",
        "**Steps**\n",
        "\n",
        "1. Firstly, We start with any data point and mark it as visited.\n",
        "2. After that we check if the point has at least min_samples in its neighbourhood.\n",
        "3. If so, we start cluster creation by adding all its neighbours to a cluster. If not we mark it as a noise.\n",
        "4. For all the points we added to the cluster we check the number of their neighbours.\n",
        "5.  If it is at least min_samples, then we add all its neighbours to the same cluster and repeat the process.\n",
        "6. If not we just add the neighbour point without its neighbours.\n",
        "7. repeat the process untill all points are visited.\n",
        "\n",
        "**Datastructure used**\n",
        "\n",
        "Ball Tree:\n",
        "\n",
        "The ball tree is constructed by recursively partitioning the data points into nested hyper-spheres.\n",
        "\n",
        "It is efficient when the number of dimensions is large and the number of data points is also large."
      ]
    },
    {
      "cell_type": "code",
      "execution_count": null,
      "metadata": {
        "id": "xn6i8zHY3cZA"
      },
      "outputs": [],
      "source": [
        "def create_cluster(clusters, cluster_idx, data, root, neighbours, eps, min_samples, visited, tree):\n",
        "\n",
        "  clusters[root] = cluster_idx\n",
        "  visited[root, 1] = True\n",
        "\n",
        "  while len(neighbours) > 0:\n",
        "\n",
        "   nighbour = neighbours.pop(0)\n",
        "\n",
        "   if not visited[nighbour, 0]:\n",
        "      visited[nighbour, 0] = True\n",
        "      new_neighbours = tree.query_radius([data[nighbour]], r=eps)\n",
        "\n",
        "      if len(new_neighbours[0]) >= min_samples:\n",
        "        neighbours = list(set(neighbours) | set(new_neighbours[0]))\n",
        "\n",
        "   if not visited[nighbour, 1]:\n",
        "     clusters[nighbour] = cluster_idx\n",
        "     visited[nighbour, 1] = True"
      ]
    },
    {
      "cell_type": "code",
      "execution_count": null,
      "metadata": {
        "id": "VSfzgwXV3ehh"
      },
      "outputs": [],
      "source": [
        "from sklearn.neighbors import BallTree\n",
        "\n",
        "def DBSCAN(data, eps, min_samples):\n",
        "\n",
        "    tree = BallTree(data)\n",
        "\n",
        "    visited = np.array([[False, False] for i in range(len(data))])\n",
        "    clusters, cluster_idx = np.zeros(len(data)), 0\n",
        "\n",
        "    for i in range(len(data)):\n",
        "        if visited[i, 0]:\n",
        "            continue\n",
        "\n",
        "        visited[i,0] = True\n",
        "\n",
        "        neighbours = tree.query_radius([data[i]], r=eps)\n",
        "\n",
        "\n",
        "        if len(neighbours[0]) >= min_samples:\n",
        "            create_cluster(clusters, cluster_idx, data, i, list(neighbours[0]), eps, min_samples, visited, tree)\n",
        "            cluster_idx = cluster_idx + 1\n",
        "\n",
        "        else:\n",
        "            clusters[i] = -1\n",
        "\n",
        "    return clusters"
      ]
    },
    {
      "cell_type": "code",
      "execution_count": null,
      "metadata": {
        "colab": {
          "base_uri": "https://localhost:8080/"
        },
        "id": "Z-2IHCAZ3i_a",
        "outputId": "4bbbe0d5-0014-4122-b054-c5db2d4c1d0d"
      },
      "outputs": [
        {
          "name": "stdout",
          "output_type": "stream",
          "text": [
            "826\n",
            "3375\n",
            "639\n",
            "536\n",
            "289\n",
            "62\n"
          ]
        }
      ],
      "source": [
        "data = np.array([[0, 1], [0, 2], [10, 3], [11, 4], [10, 8]])\n",
        "clusters = DBSCAN(training_data, 10, 41)\n",
        "\n",
        "for x in np.unique(clusters):\n",
        "  if x != -1:\n",
        "    print(len(clusters[clusters == x]))"
      ]
    },
    {
      "cell_type": "markdown",
      "metadata": {
        "id": "YdKOqbjWFG2g"
      },
      "source": [
        "# Evaluation"
      ]
    },
    {
      "cell_type": "markdown",
      "metadata": {
        "id": "OEKd9zUDDWup"
      },
      "source": [
        "In this function, we plot the evauation measure agaiinst the number of clusters for the training data and test data."
      ]
    },
    {
      "cell_type": "code",
      "execution_count": null,
      "metadata": {
        "id": "vV8p6rs2BAVk"
      },
      "outputs": [],
      "source": [
        "def draw_fig(k_values, training_measures, test_measures, measure_name):\n",
        "  plt.plot(k_values, training_measures, 'o-', label='training')\n",
        "  plt.plot(k_values, test_measures, 'o-',  label='testing')\n",
        "  plt.legend()\n",
        "\n",
        "  plt.xlabel('K')\n",
        "  plt.ylabel(measure_name)\n",
        "  plt.title(f'{measure_name} & K relationship')\n",
        "\n",
        "  plt.show()"
      ]
    },
    {
      "cell_type": "markdown",
      "metadata": {
        "id": "2M-N-H-CFNdf"
      },
      "source": [
        "**Precision**\n",
        "\n",
        "In this function, we count the frequency of labels in each cluster, then we define the precision of a cluster to be the ratio between the frequency of the label with highest majority to the size of the cluster. Then we compute purity as weighted avergare of the sum of all precisions for all clusters\n"
      ]
    },
    {
      "cell_type": "code",
      "execution_count": null,
      "metadata": {
        "id": "nTRAt-b0-9gx"
      },
      "outputs": [],
      "source": [
        "def prec(clusters, labels):\n",
        "    i = 0\n",
        "    clusters_len = len(np.unique(clusters)) if -1 not in clusters else len(np.unique(clusters))-1\n",
        "    total_len = len(clusters[clusters != -1])\n",
        "    precisions = np.zeros(clusters_len)\n",
        "    purity = 0\n",
        "\n",
        "    for x in np.unique(clusters):\n",
        "        if x == -1:\n",
        "          continue\n",
        "        cluster = np.where(np.array(clusters) == x)[0]\n",
        "        label_counts = {}\n",
        "        for point in cluster:\n",
        "\n",
        "            point_label = labels[point]\n",
        "\n",
        "            value = label_counts.setdefault(point_label, 0)\n",
        "            label_counts[point_label] = value + 1\n",
        "\n",
        "        max_label_count = max(label_counts.values())\n",
        "        precisions[i] = max_label_count / len(cluster)\n",
        "        purity += precisions[i] * len(cluster) / total_len\n",
        "        i += 1\n",
        "\n",
        "    return precisions, purity"
      ]
    },
    {
      "cell_type": "markdown",
      "metadata": {
        "id": "WuSHkNn8FTyF"
      },
      "source": [
        "**Recall**\n",
        "\n",
        "In this function, we count the frequency of labels in each cluster, then we define the recall of a cluster to be the ratio between the frequency of the label with highest majority to the total label counts in all clusters. Then we compute recall as the avergare of all computed recalls from all clusters"
      ]
    },
    {
      "cell_type": "code",
      "execution_count": null,
      "metadata": {
        "id": "IpWkOCKlCTMt"
      },
      "outputs": [],
      "source": [
        "def rec(clusters, labels):\n",
        "\n",
        "    i = 0\n",
        "    clusters_len = len(np.unique(clusters)) if -1 not in clusters else len(np.unique(clusters))-1\n",
        "    recalls = np.zeros(clusters_len)\n",
        "\n",
        "    total_label_counts = {}\n",
        "    for x in np.unique(clusters):\n",
        "        if x == -1:\n",
        "          continue\n",
        "        cluster = np.where(np.array(clusters) == x)[0]\n",
        "        for point in cluster:\n",
        "\n",
        "            point_label = labels[point]\n",
        "\n",
        "            value = total_label_counts.setdefault(point_label, 0)\n",
        "            total_label_counts[point_label] = value + 1\n",
        "\n",
        "    for x in np.unique(clusters):\n",
        "        if x == -1:\n",
        "          continue\n",
        "        cluster = np.where(np.array(clusters) == x)[0]\n",
        "        label_counts = {}\n",
        "        for point in cluster:\n",
        "\n",
        "            point_label = labels[point]\n",
        "\n",
        "            value = label_counts.setdefault(point_label, 0)\n",
        "            label_counts[point_label] = value + 1\n",
        "\n",
        "        max_label_count = max(label_counts.values())\n",
        "        max_key = [k for k, v in label_counts.items() if v == max_label_count][0]\n",
        "        recalls[i] = max_label_count / total_label_counts[max_key]\n",
        "        i += 1\n",
        "\n",
        "    return recalls, np.sum(recalls) / clusters_len"
      ]
    },
    {
      "cell_type": "markdown",
      "metadata": {
        "id": "DqnggqCBHPFH"
      },
      "source": [
        "**F1-Score**\n",
        "\n",
        "\n",
        "For each cluster, we comute the Fmeasure = 2 * precision * recall / ( precision + recall), then we compute the F1-Score as the average of the    Fmeasure for all clusters"
      ]
    },
    {
      "cell_type": "code",
      "execution_count": null,
      "metadata": {
        "id": "gyMqeOW8eZ7Y"
      },
      "outputs": [],
      "source": [
        "def f1(prec, rec):\n",
        "  return np.sum(2*prec*rec / (prec + rec)) / len(prec)"
      ]
    },
    {
      "cell_type": "markdown",
      "metadata": {
        "id": "sO7fbCfCyyTy"
      },
      "source": [
        "**Conditional Entropy**\n",
        "\n",
        "In this function, we store the label of each point in all clusters, then we iterate for each cluster and compute its conditional entropy to equal the summation of -1 * nij / ni * log(nij / ni).\n",
        "\n",
        "where:\n",
        "\n",
        "\n",
        "1. nij is the count of label j in cluster i\n",
        "\n",
        "2. ni is the size of cluster i.\n",
        "\n",
        "Finally, we compute the conditional entropy to equal the weighted average of the conditional entropy of each cluster."
      ]
    },
    {
      "cell_type": "code",
      "execution_count": null,
      "metadata": {
        "id": "s-sP5Pa-yw4m"
      },
      "outputs": [],
      "source": [
        "def conditional_entropy(clusters, labels):\n",
        "\n",
        "  unique_labels = np.unique(labels)\n",
        "  labels_clusters = []\n",
        "\n",
        "  for x in np.unique(clusters):\n",
        "        if x == -1:\n",
        "          continue\n",
        "        cluster = np.where(np.array(clusters) == x)[0]\n",
        "        labels_list = []\n",
        "        for point in cluster:\n",
        "            labels_list.append(labels[point])\n",
        "        labels_clusters.append(labels_list)\n",
        "\n",
        "  H_C = []\n",
        "  for cluster in labels_clusters:\n",
        "    H_Ci = 0\n",
        "    for label in unique_labels:\n",
        "      cluster = np.array(cluster)\n",
        "      n = len(cluster[cluster == label])\n",
        "      H_Ci += 0 if n == 0 else -n / len(cluster) * math.log(n / len(cluster), 2)\n",
        "\n",
        "    H_C.append(len(cluster) / len(clusters[clusters != -1]) * H_Ci)\n",
        "\n",
        "  return np.sum(H_C)"
      ]
    },
    {
      "cell_type": "markdown",
      "metadata": {
        "id": "k-AROcVKfeQh"
      },
      "source": [
        "**Compute Anomalies**\n",
        "\n",
        "This function is used to count the number of anomalies in the resulted clustering.\n",
        "\n",
        "It find the majority label in each cluster then consider all remaining points that have different label as anomalies\n",
        "\n",
        "Finally, it count the number of anomalies in each cluster then return it"
      ]
    },
    {
      "cell_type": "code",
      "execution_count": null,
      "metadata": {
        "id": "EosW0Z6Yrtkm"
      },
      "outputs": [],
      "source": [
        "def compute_anomalies(clusters, labels):\n",
        "\n",
        "    anomalies = 0\n",
        "\n",
        "    for x in np.unique(clusters):\n",
        "        if x == -1:\n",
        "          continue\n",
        "        cluster = np.where(np.array(clusters) == x)[0]\n",
        "        label_counts = {}\n",
        "        for point in cluster:\n",
        "\n",
        "            point_label = labels[point]\n",
        "\n",
        "            value = label_counts.setdefault(point_label, 0)\n",
        "            label_counts[point_label] = value + 1\n",
        "\n",
        "        max_label = max(label_counts, key=label_counts.get)\n",
        "        cluster_labels = np.array(labels[cluster])\n",
        "        anomalies += len(cluster_labels[cluster_labels != max_label])\n",
        "\n",
        "    return anomalies"
      ]
    },
    {
      "cell_type": "markdown",
      "metadata": {
        "id": "L3AjFQdCMaw4"
      },
      "source": [
        "This function takes the clusters and labels as pararmeters and compute the 4 evaluation measures for them"
      ]
    },
    {
      "cell_type": "code",
      "execution_count": null,
      "metadata": {
        "id": "h4WHArXw4cC3"
      },
      "outputs": [],
      "source": [
        "def evaluation_measures(clusters, labels):\n",
        "  precision, purity = prec(clusters, labels)\n",
        "  print(\"Purity\", purity)\n",
        "\n",
        "  recalls, recall = rec(clusters, labels)\n",
        "  print(\"recall\", recall)\n",
        "\n",
        "  f1_score = f1(precision, recalls)\n",
        "  print(\"F1 Score\", f1_score)\n",
        "\n",
        "  entropy = conditional_entropy(clusters, labels)\n",
        "  print(\"Conditional Entropy\", entropy)\n"
      ]
    },
    {
      "cell_type": "markdown",
      "metadata": {
        "id": "--abnKfz5DvZ"
      },
      "source": [
        "**Kmeans Evaluations**\n",
        "\n",
        "Here we compute the four evaluation measures for K-means for both training and testing data and we can notice the following:\n",
        "\n",
        "1. We can see that for the purity measure as K increase the purity increases and this is because this measurement prefer clusters with no confusion and as the number of cluster increases their size decreases and also the confusion in each cluster decrease so the purity increases.\n",
        "\n",
        "2. For the recall measure as it is the ratio between the count of label in cluster and the total label count, we can notice that as K increase the number of clusters increase and their size decrease so as well the label count in each cluster will decrease so finally the average recall decrease.\n",
        "\n",
        "3. As F1-score penalize clusters that have low recall or prcision we can see that as K increases the F1-score decreases.\n",
        "\n",
        "4. Also from the definition of Entropy, it prefers low confiusion in clusters so we can notice that because as the number of clusters increases the confusion decreases, the entropy value decreases i.e get better"
      ]
    },
    {
      "cell_type": "code",
      "execution_count": null,
      "metadata": {
        "id": "27CsRZHb_cu7"
      },
      "outputs": [],
      "source": [
        "kmeans_purities = []\n",
        "kmeans_recalls = []\n",
        "kmeans_f1_scores = []\n",
        "kmeans_entropies = []\n",
        "\n",
        "for k in k_values:\n",
        "  prec1, purity1 = prec(kmeans_dict[k].predict(reduced_data), reduced_labels)\n",
        "  prec2, purity2 = prec(kmeans_dict[k].predict(testing_data), testing_labels)\n",
        "\n",
        "  kmeans_purities.append([purity1, purity2])\n",
        "\n",
        "  rec1, recall1 = rec(kmeans_dict[k].predict(reduced_data), reduced_labels)\n",
        "  rec2, recall2 = rec(kmeans_dict[k].predict(testing_data), testing_labels)\n",
        "\n",
        "  kmeans_recalls.append([recall1, recall2])\n",
        "\n",
        "  f1_score1 = f1(prec1, rec1)\n",
        "  f1_score2 = f1(prec2, rec2)\n",
        "\n",
        "  kmeans_f1_scores.append([f1_score1, f1_score2])\n",
        "\n",
        "  entropy1 = conditional_entropy(kmeans_dict[k].predict(reduced_data), reduced_labels)\n",
        "  entropy2 = conditional_entropy(kmeans_dict[k].predict(testing_data), testing_labels)\n",
        "\n",
        "  kmeans_entropies.append([entropy1, entropy2])"
      ]
    },
    {
      "cell_type": "code",
      "execution_count": null,
      "metadata": {
        "colab": {
          "base_uri": "https://localhost:8080/",
          "height": 1000
        },
        "id": "LqTMKlDwBzSc",
        "outputId": "78a011a2-a588-4d9e-90da-139545ad758d"
      },
      "outputs": [
        {
          "data": {
            "image/png": "[encoded data removed]",
            "text/plain": [
              "<Figure size 640x480 with 1 Axes>"
            ]
          },
          "metadata": {},
          "output_type": "display_data"
        },
        {
          "data": {
            "image/png": "[encoded data removed]",
            "text/plain": [
              "<Figure size 640x480 with 1 Axes>"
            ]
          },
          "metadata": {},
          "output_type": "display_data"
        },
        {
          "data": {
            "image/png": "[encoded data removed]",
            "text/plain": [
              "<Figure size 640x480 with 1 Axes>"
            ]
          },
          "metadata": {},
          "output_type": "display_data"
        },
        {
          "data": {
            "image/png": "[encoded data removed]",
            "text/plain": [
              "<Figure size 640x480 with 1 Axes>"
            ]
          },
          "metadata": {},
          "output_type": "display_data"
        }
      ],
      "source": [
        "draw_fig(k_values, np.array(kmeans_purities)[:,0], np.array(kmeans_purities)[:,1], 'Purity')\n",
        "draw_fig(k_values, np.array(kmeans_recalls)[:,0], np.array(kmeans_recalls)[:,1], 'Recall')\n",
        "draw_fig(k_values, np.array(kmeans_f1_scores)[:,0], np.array(kmeans_f1_scores)[:,1], 'F1 Score')\n",
        "draw_fig(k_values, np.array(kmeans_entropies)[:,0], np.array(kmeans_entropies)[:,1], 'Entropy')"
      ]
    },
    {
      "cell_type": "markdown",
      "metadata": {
        "id": "tpVORvAASK4x"
      },
      "source": [
        "We can see from that resulted evaluation measures that:\n",
        "\n",
        "DBSCAN is best clustering algorithm for this dataset\n",
        "Kmeans is the least performance algorithm\n",
        "\n",
        "There are many anomalies in Kmeans compared to Normalized cut\n",
        "\n",
        "The reason for that is Kmeans has some cons:\n",
        "1. It is not efficient with non-spherical shaped data\n",
        "2. It may stuck at local minimum\n"
      ]
    },
    {
      "cell_type": "code",
      "execution_count": null,
      "metadata": {
        "colab": {
          "base_uri": "https://localhost:8080/"
        },
        "id": "QmEtRmqz5HQK",
        "outputId": "df481734-092b-400e-9699-2c985e8a7194"
      },
      "outputs": [
        {
          "output_type": "stream",
          "name": "stdout",
          "text": [
            "for k=11:\n",
            "Clusters sizes: [3537, 2623, 804, 210, 100, 27, 18, 18, 6, 3, 1]\n",
            "Purity 0.8436096365863618\n",
            "recall 0.29615552370864234\n",
            "F1 Score 0.281455557040079\n",
            "Conditional Entropy 0.5200634005464979\n"
          ]
        }
      ],
      "source": [
        "kmeans = KMeans()\n",
        "kmeans.fit(training_data, 11, n_iterations=300)\n",
        "\n",
        "clusters = kmeans.predict(training_data)\n",
        "\n",
        "evaluation_measures(clusters, training_labels)"
      ]
    },
    {
      "cell_type": "code",
      "execution_count": null,
      "metadata": {
        "colab": {
          "base_uri": "https://localhost:8080/"
        },
        "id": "WxaLIexChq2e",
        "outputId": "99f6f8cc-851a-465b-98b2-206ab3c0cc85"
      },
      "outputs": [
        {
          "output_type": "execute_result",
          "data": {
            "text/plain": [
              "1149"
            ]
          },
          "metadata": {},
          "execution_count": 163
        }
      ],
      "source": [
        "compute_anomalies(clusters, training_labels)"
      ]
    },
    {
      "cell_type": "markdown",
      "metadata": {
        "id": "EGCC1VxQ5W_W"
      },
      "source": [
        "Normalized-Cut Evaluations"
      ]
    },
    {
      "cell_type": "code",
      "execution_count": null,
      "metadata": {
        "colab": {
          "base_uri": "https://localhost:8080/"
        },
        "id": "_OTKL9n05ZuS",
        "outputId": "91aee335-ed56-4be7-f34a-74342239bdd9"
      },
      "outputs": [
        {
          "output_type": "stream",
          "name": "stdout",
          "text": [
            "for k=11:\n",
            "Clusters sizes: [3397, 1703, 874, 704, 171, 159, 144, 102, 70, 22, 1]\n",
            "Purity 0.9670613855995644\n",
            "recall 0.2623662342531199\n",
            "F1 Score 0.3258569054115065\n",
            "Conditional Entropy 0.19751924308702254\n"
          ]
        }
      ],
      "source": [
        "clusters, new_training_data, centroids = normalized_cut(training_data, 11, 0.1)\n",
        "\n",
        "evaluation_measures(clusters, training_labels)"
      ]
    },
    {
      "cell_type": "code",
      "execution_count": null,
      "metadata": {
        "colab": {
          "base_uri": "https://localhost:8080/"
        },
        "id": "TpCnNcWFix_B",
        "outputId": "36b85ae4-1b82-4235-f6b4-1a54dca4d6f1"
      },
      "outputs": [
        {
          "output_type": "execute_result",
          "data": {
            "text/plain": [
              "242"
            ]
          },
          "metadata": {},
          "execution_count": 165
        }
      ],
      "source": [
        "compute_anomalies(clusters, training_labels)"
      ]
    },
    {
      "cell_type": "markdown",
      "metadata": {
        "id": "laOTKi425caO"
      },
      "source": [
        "DBSCAN Evaluations"
      ]
    },
    {
      "cell_type": "code",
      "execution_count": null,
      "metadata": {
        "colab": {
          "base_uri": "https://localhost:8080/"
        },
        "id": "UgDAXBcy5gBg",
        "outputId": "396a47e2-1564-4a79-f9be-c722fd949111"
      },
      "outputs": [
        {
          "name": "stdout",
          "output_type": "stream",
          "text": [
            "Purity 0.9994761655316919\n",
            "recall 0.5\n",
            "F1 Score 0.595634868767147\n",
            "Conditional Entropy 0.0057662175129444306\n"
          ]
        }
      ],
      "source": [
        "clusters = DBSCAN(training_data, 10, 41)\n",
        "\n",
        "evaluation_measures(clusters, training_labels)"
      ]
    }
  ],
  "metadata": {
    "colab": {
      "provenance": [],
      "include_colab_link": true
    },
    "gpuClass": "standard",
    "kernelspec": {
      "display_name": "Python 3",
      "name": "python3"
    },
    "language_info": {
      "name": "python"
    }
  },
  "nbformat": 4,
  "nbformat_minor": 0
}